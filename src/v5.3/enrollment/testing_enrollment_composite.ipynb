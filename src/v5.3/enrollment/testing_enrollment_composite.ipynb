{
 "cells": [
  {
   "cell_type": "markdown",
   "metadata": {},
   "source": [
    "# Testing enrollment composite"
   ]
  },
  {
   "cell_type": "code",
   "execution_count": null,
   "metadata": {},
   "outputs": [],
   "source": [
    "import datetime\n",
    "import json\n",
    "import os\n",
    "\n",
    "import pandas as pd\n",
    "import requests\n",
    "import swagger_client\n",
    "\n",
    "BASE_URL = os.environ.get('EDFI_BASE_URL')"
   ]
  },
  {
   "cell_type": "markdown",
   "metadata": {},
   "source": [
    "## Retrieve access token"
   ]
  },
  {
   "cell_type": "code",
   "execution_count": null,
   "metadata": {},
   "outputs": [],
   "source": [
    "edfi_client = swagger_client.ApiClient()\n",
    "\n",
    "access_url = os.environ.get(\"EDFI_BASE_URL\") + \"/oauth/token\"\n",
    "access_response = requests.post(\n",
    "    access_url,\n",
    "    headers={ 'Authorization': edfi_client.configuration.get_basic_auth_token() },\n",
    "    data={ 'grant_type': 'client_credentials' }\n",
    ")\n",
    "\n",
    "if access_response.ok:\n",
    "    print('Successfully retrieved new token')\n",
    "    access_token_json = access_response.json()\n",
    "\n",
    "    token_expiration = datetime.datetime.now() + datetime.timedelta(seconds=access_token_json['expires_in'])\n",
    "    print(f'Token will expire at {token_expiration}')\n",
    "\n",
    "    edfi_client.configuration.access_token = access_token_json['access_token']\n",
    "    print(edfi_client.configuration.access_token)\n",
    "\n",
    "else:\n",
    "    print(f'Failed to retrieve access token with error {access_response.status_code}')\n"
   ]
  },
  {
   "cell_type": "markdown",
   "metadata": {},
   "source": [
    "### /ed-fi/enrollment/localEducationAgencies/{lea_id}/staff"
   ]
  },
  {
   "cell_type": "code",
   "execution_count": null,
   "metadata": {},
   "outputs": [],
   "source": [
    "endpoint = f\"{BASE_URL}/composites/v1/2022/ed-fi/enrollment/localEducationAgencies/XXXXXXXXX/staffs?limit=100\"\n",
    "headers = {'Authorization': f'Bearer {edfi_client.configuration.access_token}'}\n",
    "\n",
    "all_records = list()\n",
    "offset = 0\n",
    "\n",
    "while True:\n",
    "    endpoint_to_call = f\"{endpoint}&offset={offset}\"\n",
    "    print(endpoint_to_call)\n",
    "    response = requests.get(endpoint_to_call, headers=headers)\n",
    "    print(len(response.json()))\n",
    "    all_records = all_records + response.json()\n",
    "\n",
    "    if len(response.json()) > 0:\n",
    "        # move onto next page\n",
    "        offset = offset + 100\n",
    "    else:\n",
    "        # retrieved all data from api\n",
    "        print(\"Breaking!\")\n",
    "        break\n",
    "\n",
    "\n",
    "df = pd.DataFrame(all_records)\n",
    "df.loc[df[\"lastSurname\"] == \"XXXXXXXXX\"]"
   ]
  },
  {
   "cell_type": "markdown",
   "metadata": {},
   "source": [
    "### /ed-fi/enrollment/staffs"
   ]
  },
  {
   "cell_type": "code",
   "execution_count": null,
   "metadata": {},
   "outputs": [],
   "source": [
    "endpoint = f\"{BASE_URL}/composites/v1/2022/ed-fi/enrollment/staffs?limit=100\"\n",
    "headers = {'Authorization': f'Bearer {edfi_client.configuration.access_token}'}\n",
    "\n",
    "all_records = list()\n",
    "offset = 0\n",
    "\n",
    "while True:\n",
    "    endpoint_to_call = f\"{endpoint}&offset={offset}\"\n",
    "    print(endpoint_to_call)\n",
    "    response = requests.get(endpoint_to_call, headers=headers)\n",
    "    print(len(response.json()))\n",
    "    all_records = all_records + response.json()\n",
    "\n",
    "    if len(response.json()) > 0:\n",
    "        # move onto next page\n",
    "        offset = offset + 100\n",
    "    else:\n",
    "        # retrieved all data from api\n",
    "        print(\"Breaking!\")\n",
    "        break\n",
    "\n",
    "\n",
    "df = pd.DataFrame(all_records)\n",
    "df.loc[df[\"lastSurname\"] == \"XXXXXXXXX\"]"
   ]
  },
  {
   "cell_type": "code",
   "execution_count": null,
   "metadata": {},
   "outputs": [],
   "source": [
    "endpoint = f'{BASE_URL}/composites/v1/2022/ed-fi/enrollment/staffs?limit=500'\n",
    "headers = {'Authorization': f'Bearer {edfi_client.configuration.access_token}'}\n",
    "response = requests.get(endpoint, headers=headers)\n",
    "\n",
    "len(response.json())"
   ]
  },
  {
   "cell_type": "code",
   "execution_count": null,
   "metadata": {},
   "outputs": [],
   "source": [
    "response.text"
   ]
  },
  {
   "cell_type": "code",
   "execution_count": null,
   "metadata": {},
   "outputs": [],
   "source": []
  }
 ],
 "metadata": {
  "kernelspec": {
   "display_name": "Python 3.7.10 64-bit",
   "metadata": {
    "interpreter": {
     "hash": "4cd7ab41f5fca4b9b44701077e38c5ffd31fe66a6cab21e0214b68d958d0e462"
    }
   },
   "name": "python3"
  },
  "language_info": {
   "codemirror_mode": {
    "name": "ipython",
    "version": 3
   },
   "file_extension": ".py",
   "mimetype": "text/x-python",
   "name": "python",
   "nbconvert_exporter": "python",
   "pygments_lexer": "ipython3",
   "version": "3.8.12"
  },
  "orig_nbformat": 2
 },
 "nbformat": 4,
 "nbformat_minor": 2
}
