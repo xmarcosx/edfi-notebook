{
 "cells": [
  {
   "cell_type": "markdown",
   "metadata": {},
   "source": [
    "# Testing enrollment composite"
   ]
  },
  {
   "cell_type": "code",
   "execution_count": null,
   "metadata": {},
   "outputs": [],
   "source": [
    "import datetime\n",
    "import os\n",
    "\n",
    "import requests\n",
    "import swagger_client"
   ]
  },
  {
   "cell_type": "markdown",
   "metadata": {},
   "source": [
    "## Retrieve access token"
   ]
  },
  {
   "cell_type": "code",
   "execution_count": null,
   "metadata": {},
   "outputs": [],
   "source": [
    "edfi_client = swagger_client.ApiClient()\n",
    "\n",
    "access_url = os.environ.get(\"EDFI_BASE_URL\") + \"/oauth/token\"\n",
    "access_response = requests.post(\n",
    "    access_url,\n",
    "    headers={ 'Authorization': edfi_client.configuration.get_basic_auth_token() },\n",
    "    data={ 'grant_type': 'client_credentials' }\n",
    ")\n",
    "\n",
    "if access_response.ok:\n",
    "    print('Successfully retrieved new token')\n",
    "    access_token_json = access_response.json()\n",
    "\n",
    "    token_expiration = datetime.datetime.now() + datetime.timedelta(seconds=access_token_json['expires_in'])\n",
    "    print(f'Token will expire at {token_expiration}')\n",
    "\n",
    "    edfi_client.configuration.access_token = access_token_json['access_token']\n",
    "    print(edfi_client.configuration.access_token)\n",
    "\n",
    "else:\n",
    "    print(f'Failed to retrieve access token with error {access_response.status_code}')\n"
   ]
  },
  {
   "cell_type": "code",
   "execution_count": null,
   "metadata": {},
   "outputs": [],
   "source": []
  }
 ],
 "metadata": {
  "kernelspec": {
   "display_name": "Python 3.7.10 64-bit",
   "metadata": {
    "interpreter": {
     "hash": "4cd7ab41f5fca4b9b44701077e38c5ffd31fe66a6cab21e0214b68d958d0e462"
    }
   },
   "name": "python3"
  },
  "language_info": {
   "codemirror_mode": {
    "name": "ipython",
    "version": 3
   },
   "file_extension": ".py",
   "mimetype": "text/x-python",
   "name": "python",
   "nbconvert_exporter": "python",
   "pygments_lexer": "ipython3",
   "version": "3.8.12"
  },
  "orig_nbformat": 2
 },
 "nbformat": 4,
 "nbformat_minor": 2
}
