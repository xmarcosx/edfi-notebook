{
 "cells": [
  {
   "cell_type": "markdown",
   "metadata": {},
   "source": [
    "# Get data from Ed-Fi API\n",
    "\n",
    "## Import swagger python SDK and pull in environment variables"
   ]
  },
  {
   "cell_type": "code",
   "execution_count": null,
   "metadata": {},
   "outputs": [],
   "source": [
    "import datetime\n",
    "import os\n",
    "\n",
    "import requests\n",
    "import swagger_client\n",
    "\n",
    "BASE_URL = os.environ.get('EDFI_BASE_URL')"
   ]
  },
  {
   "cell_type": "markdown",
   "metadata": {},
   "source": [
    "## Retrieve access token"
   ]
  },
  {
   "cell_type": "code",
   "execution_count": null,
   "metadata": {},
   "outputs": [],
   "source": [
    "edfi_client = swagger_client.ApiClient()\n",
    "\n",
    "\n",
    "access_url = os.environ.get(\"EDFI_BASE_URL\") + \"/oauth/token\"\n",
    "access_response = requests.post(\n",
    "    access_url,\n",
    "    headers={ 'Authorization': edfi_client.configuration.get_basic_auth_token() },\n",
    "    data={ 'grant_type': 'client_credentials' }\n",
    ")\n",
    "\n",
    "if access_response.ok:\n",
    "    print('Successfully retrieved new token')\n",
    "    access_token_json = access_response.json()\n",
    "\n",
    "    token_expiration = datetime.datetime.now() + datetime.timedelta(seconds=access_token_json['expires_in'])\n",
    "    print(f'Token will expire at {token_expiration}')\n",
    "\n",
    "    edfi_client.configuration.access_token = access_token_json['access_token']\n",
    "    print(edfi_client.configuration.access_token)\n",
    "\n",
    "else:\n",
    "    print(f'Failed to retrieve access token with error {access_response.status_code}')\n"
   ]
  },
  {
   "cell_type": "code",
   "execution_count": null,
   "metadata": {},
   "outputs": [],
   "source": [
    "endpoint = f'{BASE_URL}/changeQueries/v1/2021/availableChangeVersions'\n",
    "headers = {'Authorization': f'Bearer {edfi_client.configuration.access_token}'}\n",
    "response = requests.get(endpoint, headers=headers)\n",
    "\n",
    "if response.ok:\n",
    "    print(response.json())\n",
    "else:\n",
    "    print(response.status_code)"
   ]
  },
  {
   "cell_type": "code",
   "execution_count": null,
   "metadata": {},
   "outputs": [],
   "source": [
    "endpoint = f'{BASE_URL}/data/v3/2021/ed-fi/studentSchoolAssociations/deletes?minChangeVersion=3167&maxChangeVersion=3167'\n",
    "headers = {'Authorization': f'Bearer {edfi_client.configuration.access_token}'}\n",
    "students = requests.get(endpoint, headers=headers)\n",
    "\n",
    "if students.ok:\n",
    "    print(students.json())\n",
    "else:\n",
    "    print(students.status_code)"
   ]
  },
  {
   "cell_type": "code",
   "execution_count": null,
   "metadata": {},
   "outputs": [],
   "source": [
    "endpoint = f'{BASE_URL}/data/v3/2021/ed-fi/studentSchoolAssociations?minChangeVersion=3167&maxChangeVersion=3167'\n",
    "headers = {'Authorization': f'Bearer {edfi_client.configuration.access_token}'}\n",
    "student_school = requests.get(endpoint, headers=headers)\n",
    "\n",
    "if student_school.ok:\n",
    "    print(len(student_school.json()))\n",
    "    # print(student_school.headers)\n",
    "    print(student_school.json())\n",
    "else:\n",
    "    print(student_school.status_code)"
   ]
  },
  {
   "cell_type": "code",
   "execution_count": null,
   "metadata": {},
   "outputs": [],
   "source": []
  }
 ],
 "metadata": {
  "kernelspec": {
   "display_name": "Python 3.7.10 64-bit",
   "metadata": {
    "interpreter": {
     "hash": "4cd7ab41f5fca4b9b44701077e38c5ffd31fe66a6cab21e0214b68d958d0e462"
    }
   },
   "name": "python3"
  },
  "language_info": {
   "codemirror_mode": {
    "name": "ipython",
    "version": 3
   },
   "file_extension": ".py",
   "mimetype": "text/x-python",
   "name": "python",
   "nbconvert_exporter": "python",
   "pygments_lexer": "ipython3",
   "version": "3.8.12"
  },
  "orig_nbformat": 2
 },
 "nbformat": 4,
 "nbformat_minor": 2
}
