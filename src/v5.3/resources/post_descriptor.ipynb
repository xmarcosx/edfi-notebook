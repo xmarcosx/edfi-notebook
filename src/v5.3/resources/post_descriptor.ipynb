{
 "cells": [
  {
   "cell_type": "markdown",
   "metadata": {},
   "source": [
    "# Post Descriptor\n"
   ]
  },
  {
   "cell_type": "code",
   "execution_count": null,
   "metadata": {},
   "outputs": [],
   "source": [
    "import datetime\n",
    "import os\n",
    "\n",
    "import requests\n",
    "import swagger_client"
   ]
  },
  {
   "cell_type": "markdown",
   "metadata": {},
   "source": [
    "## Retrieve access token"
   ]
  },
  {
   "cell_type": "code",
   "execution_count": null,
   "metadata": {},
   "outputs": [],
   "source": [
    "edfi_client = swagger_client.ApiClient()\n",
    "\n",
    "\n",
    "access_url = os.environ.get(\"EDFI_BASE_URL\") + \"/oauth/token\"\n",
    "access_response = requests.post(\n",
    "    access_url,\n",
    "    headers={ 'Authorization': edfi_client.configuration.get_basic_auth_token() },\n",
    "    data={ 'grant_type': 'client_credentials' }\n",
    ")\n",
    "\n",
    "if access_response.ok:\n",
    "    print('Successfully retrieved new token')\n",
    "    access_token_json = access_response.json()\n",
    "\n",
    "    token_expiration = datetime.datetime.now() + datetime.timedelta(seconds=access_token_json['expires_in'])\n",
    "    print(f'Token will expire at {token_expiration}')\n",
    "\n",
    "    edfi_client.configuration.access_token = access_token_json['access_token']\n",
    "    print(edfi_client.configuration.access_token)\n",
    "\n",
    "else:\n",
    "    print(f'Failed to retrieve access token with error {access_response.status_code}')\n"
   ]
  },
  {
   "cell_type": "code",
   "execution_count": null,
   "metadata": {},
   "outputs": [],
   "source": [
    "BASE_URL = os.environ.get('EDFI_BASE_URL')\n",
    "endpoint = f'{BASE_URL}/data/v3/ed-fi/responsibilityDescriptors'\n",
    "headers = {'Authorization': f'Bearer {edfi_client.configuration.access_token}'}\n",
    "reponse = requests.post(\n",
    "    endpoint,\n",
    "    headers=headers,\n",
    "    data={\n",
    "        \"codeValue\": \"Residency\",\n",
    "        \"description\": \"Residency\",\n",
    "        \"namespace\": \"uri://coolschool.net/ResponsibilityDescriptor\",\n",
    "        \"shortDescription\": \"Residency\",\n",
    "        }\n",
    ")\n",
    "\n",
    "reponse.ok\n"
   ]
  },
  {
   "cell_type": "code",
   "execution_count": null,
   "metadata": {},
   "outputs": [],
   "source": [
    "reponse.content"
   ]
  }
 ],
 "metadata": {
  "kernelspec": {
   "display_name": "Python 3.7.10 64-bit",
   "metadata": {
    "interpreter": {
     "hash": "4cd7ab41f5fca4b9b44701077e38c5ffd31fe66a6cab21e0214b68d958d0e462"
    }
   },
   "name": "python3"
  },
  "language_info": {
   "codemirror_mode": {
    "name": "ipython",
    "version": 3
   },
   "file_extension": ".py",
   "mimetype": "text/x-python",
   "name": "python",
   "nbconvert_exporter": "python",
   "pygments_lexer": "ipython3",
   "version": "3.8.12"
  },
  "orig_nbformat": 2
 },
 "nbformat": 4,
 "nbformat_minor": 2
}
