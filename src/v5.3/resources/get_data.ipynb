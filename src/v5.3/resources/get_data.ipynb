{
 "cells": [
  {
   "cell_type": "markdown",
   "metadata": {},
   "source": [
    "# Get data from Ed-Fi API\n",
    "\n",
    "## Import swagger python SDK and pull in environment variables"
   ]
  },
  {
   "cell_type": "code",
   "execution_count": null,
   "metadata": {},
   "outputs": [],
   "source": [
    "import datetime\n",
    "import json\n",
    "import os\n",
    "\n",
    "import requests\n",
    "import swagger_client\n",
    "\n",
    "BASE_URL = os.environ.get('EDFI_BASE_URL')"
   ]
  },
  {
   "cell_type": "code",
   "execution_count": null,
   "metadata": {},
   "outputs": [],
   "source": [
    "BASE_URL"
   ]
  },
  {
   "cell_type": "code",
   "execution_count": null,
   "metadata": {},
   "outputs": [],
   "source": [
    "edfi_client = swagger_client.ApiClient()\n",
    "\n",
    "\n",
    "access_url = os.environ.get(\"EDFI_BASE_URL\") + \"/oauth/token\"\n",
    "access_response = requests.post(\n",
    "    access_url,\n",
    "    headers={ 'Authorization': edfi_client.configuration.get_basic_auth_token() },\n",
    "    data={ 'grant_type': 'client_credentials' }\n",
    ")\n",
    "\n",
    "if access_response.ok:\n",
    "    print('Successfully retrieved new token')\n",
    "    access_token_json = access_response.json()\n",
    "\n",
    "    token_expiration = datetime.datetime.now() + datetime.timedelta(seconds=access_token_json['expires_in'])\n",
    "    print(f'Token will expire at {token_expiration}')\n",
    "\n",
    "    edfi_client.configuration.access_token = access_token_json['access_token']\n",
    "    print(edfi_client.configuration.access_token)\n",
    "\n",
    "else:\n",
    "    print(f'Failed to retrieve access token with error {access_response.status_code}')\n"
   ]
  },
  {
   "cell_type": "markdown",
   "metadata": {},
   "source": [
    "### Local Education Agencies"
   ]
  },
  {
   "cell_type": "code",
   "execution_count": null,
   "metadata": {},
   "outputs": [],
   "source": [
    "leas_api = swagger_client.LocalEducationAgenciesApi(\n",
    "    api_client=edfi_client\n",
    ")\n",
    "\n",
    "leas = leas_api.get_local_education_agencies_with_http_info()\n",
    "\n",
    "leas"
   ]
  },
  {
   "cell_type": "markdown",
   "metadata": {},
   "source": [
    "### Get all schools"
   ]
  },
  {
   "cell_type": "code",
   "execution_count": null,
   "metadata": {},
   "outputs": [],
   "source": [
    "schools_api = swagger_client.SchoolsApi(\n",
    "    api_client=edfi_client\n",
    ")\n",
    "\n",
    "schools = schools_api.get_schools()\n",
    "\n",
    "f'Retrieved {len(schools)} schools.'"
   ]
  },
  {
   "cell_type": "code",
   "execution_count": null,
   "metadata": {},
   "outputs": [],
   "source": [
    "# pull specific fields\n",
    "schools[0].name_of_institution"
   ]
  },
  {
   "cell_type": "markdown",
   "metadata": {},
   "source": [
    "### Get all students"
   ]
  },
  {
   "cell_type": "code",
   "execution_count": null,
   "metadata": {},
   "outputs": [],
   "source": [
    "students_api = swagger_client.StudentsApi(\n",
    "    api_client=edfi_client\n",
    ")\n",
    "\n",
    "students = students_api.get_students()\n",
    "\n",
    "f'Retrieved {len(students)} students.'"
   ]
  },
  {
   "cell_type": "markdown",
   "metadata": {},
   "source": [
    "### Get student school associations"
   ]
  },
  {
   "cell_type": "code",
   "execution_count": null,
   "metadata": {},
   "outputs": [],
   "source": [
    "student_school_api = swagger_client.StudentSchoolAssociationsApi(\n",
    "    api_client=edfi_client\n",
    ")\n",
    "\n",
    "student_school = student_school_api.get_student_school_associations()\n",
    "\n",
    "len(student_school)"
   ]
  },
  {
   "cell_type": "markdown",
   "metadata": {},
   "source": [
    "### Staff"
   ]
  },
  {
   "cell_type": "code",
   "execution_count": null,
   "metadata": {},
   "outputs": [],
   "source": [
    "staff_ed_org_assn_api = swagger_client.StaffEducationOrganizationAssignmentAssociationsApi(\n",
    "    api_client=edfi_client\n",
    ")\n",
    "\n",
    "staff_ed_org_assn = staff_ed_org_assn_api.get_staff_education_organization_assignment_associations_with_http_info()\n",
    "\n",
    "staff_ed_org_assn"
   ]
  },
  {
   "cell_type": "markdown",
   "metadata": {},
   "source": [
    "### Staff section associations"
   ]
  },
  {
   "cell_type": "code",
   "execution_count": null,
   "metadata": {},
   "outputs": [],
   "source": [
    "endpoint = f'{BASE_URL}/data/v3/2022/ed-fi/staffSectionAssociations?limit=6000'\n",
    "headers = {'Authorization': f'Bearer {edfi_client.configuration.access_token}'}\n",
    "staff_section_assoc = requests.get(endpoint, headers=headers)\n",
    "\n",
    "len(staff_section_assoc.json())"
   ]
  },
  {
   "cell_type": "code",
   "execution_count": null,
   "metadata": {},
   "outputs": [],
   "source": [
    "endpoint = f'{BASE_URL}/data/v3/ed-fi/staffEducationOrganizationEmploymentAssociations?limit=100'\n",
    "headers = {'Authorization': f'Bearer {edfi_client.configuration.access_token}'}\n",
    "response = requests.get(endpoint, headers=headers)\n",
    "\n",
    "response.json()"
   ]
  },
  {
   "cell_type": "markdown",
   "metadata": {},
   "source": [
    "### Assessments"
   ]
  },
  {
   "cell_type": "code",
   "execution_count": null,
   "metadata": {},
   "outputs": [],
   "source": [
    "endpoint = f'{BASE_URL}/data/v3/ed-fi/assessments'\n",
    "headers = {'Authorization': f'Bearer {edfi_client.configuration.access_token}'}\n",
    "assessments = requests.get(endpoint, headers=headers)\n",
    "\n",
    "if assessments.ok:\n",
    "    print(assessments.json())\n",
    "else:\n",
    "    print(assessments.status_code)"
   ]
  },
  {
   "cell_type": "code",
   "execution_count": null,
   "metadata": {},
   "outputs": [],
   "source": [
    "endpoint = f'{BASE_URL}/data/v3/ed-fi/studentAssessments'\n",
    "headers = {'Authorization': f'Bearer {edfi_client.configuration.access_token}'}\n",
    "student_assessments = requests.get(endpoint, headers=headers)\n",
    "\n",
    "if student_assessments.ok:\n",
    "    print(student_assessments.json())\n",
    "else:\n",
    "    print(student_assessments.status_code)"
   ]
  },
  {
   "cell_type": "code",
   "execution_count": null,
   "metadata": {},
   "outputs": [],
   "source": [
    "endpoint = f'{BASE_URL}/data/v3/ed-fi/staffEducationOrganizationAssignmentAssociations?limit=100&offset=0'\n",
    "headers = {'Authorization': f'Bearer {edfi_client.configuration.access_token}'}\n",
    "response = requests.get(endpoint, headers=headers)\n",
    "\n",
    "if response.ok:\n",
    "    staff_assignments = response.json()\n",
    "else:\n",
    "    print(response.status_code)\n",
    "\n",
    "staff_assignments"
   ]
  },
  {
   "cell_type": "code",
   "execution_count": null,
   "metadata": {},
   "outputs": [],
   "source": [
    "endpoint = f'{BASE_URL}/data/v3/ed-fi/staffs?limit=100&offset=0'\n",
    "headers = {'Authorization': f'Bearer {edfi_client.configuration.access_token}'}\n",
    "response = requests.get(endpoint, headers=headers)\n",
    "\n",
    "if response.ok:\n",
    "    staff=response.json()\n",
    "    print(response.json())\n",
    "else:\n",
    "    print(response.status_code)"
   ]
  },
  {
   "cell_type": "code",
   "execution_count": null,
   "metadata": {},
   "outputs": [],
   "source": [
    "endpoint = f'{BASE_URL}/data/v3/ed-fi/schools?limit=100&offset=0'\n",
    "headers = {'Authorization': f'Bearer {edfi_client.configuration.access_token}'}\n",
    "response = requests.get(endpoint, headers=headers)\n",
    "\n",
    "response.json()"
   ]
  },
  {
   "cell_type": "markdown",
   "metadata": {},
   "source": [
    "# Calendar"
   ]
  },
  {
   "cell_type": "code",
   "execution_count": null,
   "metadata": {},
   "outputs": [],
   "source": [
    "endpoint = f'{BASE_URL}/data/v3/ed-fi/calendarDates?date=2022-01-04&schoolId=30'\n",
    "headers = {'Authorization': f'Bearer {edfi_client.configuration.access_token}'}\n",
    "response = requests.get(endpoint, headers=headers)\n",
    "\n",
    "response.json()\n"
   ]
  },
  {
   "cell_type": "code",
   "execution_count": null,
   "metadata": {},
   "outputs": [],
   "source": [
    "endpoint = f'{BASE_URL}/data/v3/ed-fi/studentSchoolAttendanceEvents?eventDate=2021-12-03&studentUniqueId=1244692'\n",
    "headers = {'Authorization': f'Bearer {edfi_client.configuration.access_token}'}\n",
    "response = requests.get(endpoint, headers=headers)\n",
    "\n",
    "response.json()\n"
   ]
  },
  {
   "cell_type": "code",
   "execution_count": null,
   "metadata": {},
   "outputs": [],
   "source": [
    "endpoint = f'{BASE_URL}/data/v3/ed-fi/gradingPeriods?schoolId=70'\n",
    "headers = {'Authorization': f'Bearer {edfi_client.configuration.access_token}'}\n",
    "response = requests.get(endpoint, headers=headers)\n",
    "\n",
    "response.json()\n"
   ]
  },
  {
   "cell_type": "code",
   "execution_count": null,
   "metadata": {},
   "outputs": [],
   "source": [
    "endpoint = f'{BASE_URL}/data/v3/ed-fi/studentSpecialEducationProgramAssociations?totalCount=true&schoolId=70'\n",
    "headers = {'Authorization': f'Bearer {edfi_client.configuration.access_token}'}\n",
    "response = requests.get(endpoint, headers=headers)\n",
    "\n",
    "# response.json()\n",
    "response.headers\n"
   ]
  },
  {
   "cell_type": "code",
   "execution_count": null,
   "metadata": {},
   "outputs": [],
   "source": []
  }
 ],
 "metadata": {
  "kernelspec": {
   "display_name": "Python 3.7.10 64-bit",
   "metadata": {
    "interpreter": {
     "hash": "4cd7ab41f5fca4b9b44701077e38c5ffd31fe66a6cab21e0214b68d958d0e462"
    }
   },
   "name": "python3"
  },
  "language_info": {
   "codemirror_mode": {
    "name": "ipython",
    "version": 3
   },
   "file_extension": ".py",
   "mimetype": "text/x-python",
   "name": "python",
   "nbconvert_exporter": "python",
   "pygments_lexer": "ipython3",
   "version": "3.10.2"
  },
  "orig_nbformat": 2
 },
 "nbformat": 4,
 "nbformat_minor": 2
}
