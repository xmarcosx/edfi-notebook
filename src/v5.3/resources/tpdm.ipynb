{
 "cells": [
  {
   "cell_type": "markdown",
   "metadata": {},
   "source": [
    "# TPDM"
   ]
  },
  {
   "cell_type": "code",
   "execution_count": null,
   "metadata": {},
   "outputs": [],
   "source": [
    "import datetime\n",
    "import os\n",
    "\n",
    "import requests\n",
    "import swagger_client\n",
    "\n",
    "BASE_URL = os.environ.get('EDFI_BASE_URL')"
   ]
  },
  {
   "cell_type": "markdown",
   "metadata": {},
   "source": [
    "### Get access token"
   ]
  },
  {
   "cell_type": "code",
   "execution_count": null,
   "metadata": {},
   "outputs": [],
   "source": [
    "edfi_client = swagger_client.ApiClient()\n",
    "\n",
    "\n",
    "access_url = os.environ.get(\"EDFI_BASE_URL\") + \"/oauth/token\"\n",
    "access_response = requests.post(\n",
    "    access_url,\n",
    "    headers={ 'Authorization': edfi_client.configuration.get_basic_auth_token() },\n",
    "    data={ 'grant_type': 'client_credentials' }\n",
    ")\n",
    "\n",
    "if access_response.ok:\n",
    "    print('Successfully retrieved new token')\n",
    "    access_token_json = access_response.json()\n",
    "\n",
    "    token_expiration = datetime.datetime.now() + datetime.timedelta(seconds=access_token_json['expires_in'])\n",
    "    print(f'Token will expire at {token_expiration}')\n",
    "\n",
    "    edfi_client.configuration.access_token = access_token_json['access_token']\n",
    "    print(edfi_client.configuration.access_token)\n",
    "\n",
    "else:\n",
    "    print(f'Failed to retrieve access token with error {access_response.status_code}')\n"
   ]
  },
  {
   "cell_type": "markdown",
   "metadata": {},
   "source": [
    "### Performance evaluations"
   ]
  },
  {
   "cell_type": "code",
   "execution_count": null,
   "metadata": {},
   "outputs": [],
   "source": [
    "endpoint = f'{BASE_URL}/data/v3/tpdm/performanceEvaluations?performanceEvaluationTitle=1611971: Informal Observation'\n",
    "headers = {'Authorization': f'Bearer {edfi_client.configuration.access_token}'}\n",
    "performance_evaluations = requests.get(endpoint, headers=headers)\n",
    "\n",
    "if performance_evaluations.ok:\n",
    "    print(performance_evaluations.json())\n",
    "else:\n",
    "    print(performance_evaluations.status_code)"
   ]
  },
  {
   "cell_type": "markdown",
   "metadata": {},
   "source": [
    "### Performance evaluation ratings"
   ]
  },
  {
   "cell_type": "code",
   "execution_count": null,
   "metadata": {},
   "outputs": [],
   "source": [
    "endpoint = f'{BASE_URL}/data/v3/tpdm/performanceEvaluationRatings?performanceEvaluationTitle=1611971: Informal Observation'\n",
    "headers = {'Authorization': f'Bearer {edfi_client.configuration.access_token}'}\n",
    "performance_evaluation_ratings = requests.get(endpoint, headers=headers)\n",
    "\n",
    "if performance_evaluation_ratings.ok:\n",
    "    print(performance_evaluation_ratings.json())\n",
    "else:\n",
    "    print(performance_evaluation_ratings.status_code)"
   ]
  },
  {
   "cell_type": "markdown",
   "metadata": {},
   "source": [
    "### Evaluations"
   ]
  },
  {
   "cell_type": "code",
   "execution_count": null,
   "metadata": {},
   "outputs": [],
   "source": [
    "endpoint = f'{BASE_URL}/data/v3/tpdm/evaluations?performanceEvaluationTitle=1611971: Informal Observation'\n",
    "headers = {'Authorization': f'Bearer {edfi_client.configuration.access_token}'}\n",
    "evaluations = requests.get(endpoint, headers=headers)\n",
    "\n",
    "if evaluations.ok:\n",
    "    print(evaluations.json())\n",
    "else:\n",
    "    print(evaluations.status_code)"
   ]
  },
  {
   "cell_type": "markdown",
   "metadata": {},
   "source": [
    "### Evaulation Ratings"
   ]
  },
  {
   "cell_type": "code",
   "execution_count": null,
   "metadata": {},
   "outputs": [],
   "source": [
    "endpoint = f'{BASE_URL}/data/v3/tpdm/evaluationRatings?performanceEvaluationTitle=1611971: Informal Observation'\n",
    "headers = {'Authorization': f'Bearer {edfi_client.configuration.access_token}'}\n",
    "evaluation_ratings = requests.get(endpoint, headers=headers)\n",
    "\n",
    "if evaluation_ratings.ok:\n",
    "    print(evaluation_ratings.json())\n",
    "else:\n",
    "    print(evaluation_ratings.status_code)"
   ]
  },
  {
   "cell_type": "markdown",
   "metadata": {},
   "source": [
    "### Evaluation Objectives"
   ]
  },
  {
   "cell_type": "code",
   "execution_count": null,
   "metadata": {},
   "outputs": [],
   "source": [
    "endpoint = f'{BASE_URL}/data/v3/tpdm/evaluationObjectives?performanceEvaluationTitle=1611971: Informal Observation'\n",
    "headers = {'Authorization': f'Bearer {edfi_client.configuration.access_token}'}\n",
    "evaluation_objectives = requests.get(endpoint, headers=headers)\n",
    "\n",
    "if evaluation_objectives.ok:\n",
    "    print(evaluation_objectives.json())\n",
    "else:\n",
    "    print(evaluation_objectives.status_code)"
   ]
  },
  {
   "cell_type": "markdown",
   "metadata": {},
   "source": [
    "### Evaluation objective ratings"
   ]
  },
  {
   "cell_type": "code",
   "execution_count": null,
   "metadata": {},
   "outputs": [],
   "source": [
    "endpoint = f'{BASE_URL}/data/v3/tpdm/evaluationObjectiveRatings?performanceEvaluationTitle=1611971: Informal Observation'\n",
    "headers = {'Authorization': f'Bearer {edfi_client.configuration.access_token}'}\n",
    "evaluation_objective_ratings = requests.get(endpoint, headers=headers)\n",
    "\n",
    "if evaluation_objective_ratings.ok:\n",
    "    print(evaluation_objective_ratings.json())\n",
    "else:\n",
    "    print(evaluation_objective_ratings.status_code)"
   ]
  },
  {
   "cell_type": "markdown",
   "metadata": {},
   "source": [
    "### Evaulation elements"
   ]
  },
  {
   "cell_type": "code",
   "execution_count": null,
   "metadata": {},
   "outputs": [],
   "source": [
    "endpoint = f'{BASE_URL}/data/v3/tpdm/evaluationElements?performanceEvaluationTitle=1611971: Informal Observation'\n",
    "headers = {'Authorization': f'Bearer {edfi_client.configuration.access_token}'}\n",
    "evaluation_elements = requests.get(endpoint, headers=headers)\n",
    "\n",
    "if evaluation_elements.ok:\n",
    "    print(evaluation_elements.json())\n",
    "else:\n",
    "    print(evaluation_elements.status_code)"
   ]
  },
  {
   "cell_type": "markdown",
   "metadata": {},
   "source": [
    "### Evaluation element ratings"
   ]
  },
  {
   "cell_type": "code",
   "execution_count": null,
   "metadata": {},
   "outputs": [],
   "source": [
    "endpoint = f'{BASE_URL}/data/v3/tpdm/evaluationElementRatings?performanceEvaluationTitle=1611971: Informal Observation'\n",
    "headers = {'Authorization': f'Bearer {edfi_client.configuration.access_token}'}\n",
    "evaluation_element_ratings = requests.get(endpoint, headers=headers)\n",
    "\n",
    "if evaluation_element_ratings.ok:\n",
    "    print(evaluation_element_ratings.json())\n",
    "else:\n",
    "    print(evaluation_element_ratings.status_code)"
   ]
  },
  {
   "cell_type": "code",
   "execution_count": null,
   "metadata": {},
   "outputs": [],
   "source": []
  }
 ],
 "metadata": {
  "interpreter": {
   "hash": "949777d72b0d2535278d3dc13498b2535136f6dfe0678499012e853ee9abcab1"
  },
  "kernelspec": {
   "display_name": "Python 3.8.12 64-bit",
   "language": "python",
   "name": "python3"
  },
  "language_info": {
   "codemirror_mode": {
    "name": "ipython",
    "version": 3
   },
   "file_extension": ".py",
   "mimetype": "text/x-python",
   "name": "python",
   "nbconvert_exporter": "python",
   "pygments_lexer": "ipython3",
   "version": "3.8.12"
  },
  "orig_nbformat": 4
 },
 "nbformat": 4,
 "nbformat_minor": 2
}
