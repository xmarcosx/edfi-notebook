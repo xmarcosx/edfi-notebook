{
 "cells": [
  {
   "cell_type": "markdown",
   "metadata": {},
   "source": [
    "# Post data from Ed-Fi API\n",
    "\n",
    "## Import swagger python SDK and pull in environment variables"
   ]
  },
  {
   "cell_type": "code",
   "execution_count": null,
   "metadata": {},
   "outputs": [],
   "source": [
    "import datetime\n",
    "import os\n",
    "\n",
    "import requests\n",
    "import swagger_client"
   ]
  },
  {
   "cell_type": "markdown",
   "metadata": {},
   "source": [
    "## Retrieve access token"
   ]
  },
  {
   "cell_type": "code",
   "execution_count": null,
   "metadata": {},
   "outputs": [],
   "source": [
    "edfi_client = swagger_client.ApiClient()\n",
    "\n",
    "\n",
    "access_url = os.environ.get(\"EDFI_BASE_URL\") + \"/oauth/token\"\n",
    "access_response = requests.post(\n",
    "    access_url,\n",
    "    headers={ 'Authorization': edfi_client.configuration.get_basic_auth_token() },\n",
    "    data={ 'grant_type': 'client_credentials' }\n",
    ")\n",
    "\n",
    "if access_response.ok:\n",
    "    print('Successfully retrieved new token')\n",
    "    access_token_json = access_response.json()\n",
    "\n",
    "    token_expiration = datetime.datetime.now() + datetime.timedelta(seconds=access_token_json['expires_in'])\n",
    "    print(f'Token will expire at {token_expiration}')\n",
    "\n",
    "    edfi_client.configuration.access_token = access_token_json['access_token']\n",
    "    print(edfi_client.configuration.access_token)\n",
    "\n",
    "else:\n",
    "    print(f'Failed to retrieve access token with error {access_response.status_code}')\n"
   ]
  },
  {
   "cell_type": "markdown",
   "metadata": {},
   "source": [
    "## Create student object"
   ]
  },
  {
   "cell_type": "code",
   "execution_count": null,
   "metadata": {},
   "outputs": [],
   "source": [
    "student = swagger_client.EdFiStudent(\n",
    "    student_unique_id='40670327',\n",
    "    birth_date='1980-07-31',\n",
    "    first_name='Harry',\n",
    "    last_surname='Potter',\n",
    "    middle_name='',\n",
    "    birth_sex_descriptor='uri://ed-fi.org/SexDescriptor#Male'\n",
    ")"
   ]
  },
  {
   "cell_type": "code",
   "execution_count": null,
   "metadata": {},
   "outputs": [],
   "source": [
    "students_api = swagger_client.StudentsApi(\n",
    "    api_client=edfi_client\n",
    ")\n",
    "\n",
    "response = students_api.post_student_with_http_info(student)\n",
    "\n",
    "response"
   ]
  },
  {
   "cell_type": "code",
   "execution_count": null,
   "metadata": {},
   "outputs": [],
   "source": [
    "student_school_association = swagger_client.EdFiStudentSchoolAssociation(\n",
    "    school_reference=swagger_client.EdFiSchoolReference(\n",
    "        school_id='200'\n",
    "    ),\n",
    "    student_reference=swagger_client.EdFiStudentReference(\n",
    "        student_unique_id='40670327'\n",
    "    ),\n",
    "    entry_date='2021-09-02',\n",
    "    entry_grade_level_descriptor='uri://ed-fi.org/GradeLevelDescriptor#Ninth grade'\n",
    ")\n",
    "\n",
    "students_school_api = swagger_client.StudentSchoolAssociationsApi(\n",
    "    api_client=edfi_client\n",
    ")\n",
    "\n",
    "student_school_response = students_school_api.post_student_school_association_with_http_info(student_school_association)\n",
    "\n",
    "student_school_response"
   ]
  },
  {
   "cell_type": "markdown",
   "metadata": {},
   "source": [
    "## Delete student school association"
   ]
  },
  {
   "cell_type": "code",
   "execution_count": null,
   "metadata": {},
   "outputs": [],
   "source": [
    "delete_response = students_school_api.delete_student_school_association_by_id('')\n",
    "\n",
    "delete_response"
   ]
  },
  {
   "cell_type": "code",
   "execution_count": null,
   "metadata": {},
   "outputs": [],
   "source": []
  }
 ],
 "metadata": {
  "kernelspec": {
   "display_name": "Python 3.7.10 64-bit",
   "metadata": {
    "interpreter": {
     "hash": "4cd7ab41f5fca4b9b44701077e38c5ffd31fe66a6cab21e0214b68d958d0e462"
    }
   },
   "name": "python3"
  },
  "language_info": {
   "codemirror_mode": {
    "name": "ipython",
    "version": 3
   },
   "file_extension": ".py",
   "mimetype": "text/x-python",
   "name": "python",
   "nbconvert_exporter": "python",
   "pygments_lexer": "ipython3",
   "version": "3.8.12"
  },
  "orig_nbformat": 2
 },
 "nbformat": 4,
 "nbformat_minor": 2
}
