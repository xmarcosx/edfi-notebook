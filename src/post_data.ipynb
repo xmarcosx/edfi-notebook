{
 "cells": [
  {
   "cell_type": "markdown",
   "metadata": {},
   "source": [
    "# Post data from Ed-Fi API\n",
    "\n",
    "## Import swagger python SDK and pull in environment variables"
   ]
  },
  {
   "cell_type": "code",
   "execution_count": null,
   "metadata": {},
   "outputs": [],
   "source": [
    "import os\n",
    "import requests\n",
    "\n",
    "import swagger_client\n",
    "from swagger_client import Configuration\n",
    "from swagger_client.authentication import EdFi\n",
    "\n",
    "BASE_URL = os.environ.get('EDFI_BASE_URL')\n",
    "API_KEY = os.environ.get('EDFI_API_KEY')\n",
    "API_SECRET = os.environ.get('EDFI_API_SECRET')"
   ]
  },
  {
   "cell_type": "markdown",
   "metadata": {},
   "source": [
    "## Retrieve access token"
   ]
  },
  {
   "cell_type": "code",
   "execution_count": null,
   "metadata": {},
   "outputs": [],
   "source": [
    "edfi = EdFi(API_KEY, API_SECRET)\n",
    "edfi_swagger_client = Configuration()\n",
    "\n",
    "edfi_swagger_client.access_token = edfi.access_token\n",
    "\n",
    "# print access token\n",
    "edfi_swagger_client.access_token"
   ]
  },
  {
   "cell_type": "markdown",
   "metadata": {},
   "source": [
    "## Create student object"
   ]
  },
  {
   "cell_type": "code",
   "execution_count": null,
   "metadata": {},
   "outputs": [],
   "source": [
    "student = swagger_client.EdFiStudent(\n",
    "    student_unique_id='9999',\n",
    "    birth_date='2001-09-24',\n",
    "    first_name='',\n",
    "    last_surname='',\n",
    "    middle_name='',\n",
    "    birth_sex_descriptor='uri://ed-fi.org/SexDescriptor#Female'\n",
    ")"
   ]
  },
  {
   "cell_type": "code",
   "execution_count": null,
   "metadata": {},
   "outputs": [],
   "source": [
    "students_api = swagger_client.StudentsApi(\n",
    "    api_client=swagger_client.ApiClient(edfi_swagger_client)\n",
    ")\n",
    "\n",
    "response = students_api.post_student_with_http_info(student)\n",
    "\n",
    "response"
   ]
  },
  {
   "cell_type": "code",
   "execution_count": null,
   "metadata": {},
   "outputs": [],
   "source": []
  }
 ],
 "metadata": {
  "kernelspec": {
   "display_name": "Python 3.7.10 64-bit",
   "metadata": {
    "interpreter": {
     "hash": "4cd7ab41f5fca4b9b44701077e38c5ffd31fe66a6cab21e0214b68d958d0e462"
    }
   },
   "name": "python3"
  },
  "language_info": {
   "codemirror_mode": {
    "name": "ipython",
    "version": 3
   },
   "file_extension": ".py",
   "mimetype": "text/x-python",
   "name": "python",
   "nbconvert_exporter": "python",
   "pygments_lexer": "ipython3",
   "version": "3.7.10-final"
  },
  "orig_nbformat": 2
 },
 "nbformat": 4,
 "nbformat_minor": 2
}
