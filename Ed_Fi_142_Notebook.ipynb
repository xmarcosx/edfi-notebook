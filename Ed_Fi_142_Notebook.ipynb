{
  "nbformat": 4,
  "nbformat_minor": 0,
  "metadata": {
    "colab": {
      "provenance": [],
      "collapsed_sections": [],
      "authorship_tag": "ABX9TyPyW/9xeDzf7FqIulQILtCq",
      "include_colab_link": true
    },
    "kernelspec": {
      "name": "python3",
      "display_name": "Python 3"
    },
    "language_info": {
      "name": "python"
    }
  },
  "cells": [
    {
      "cell_type": "markdown",
      "metadata": {
        "id": "view-in-github",
        "colab_type": "text"
      },
      "source": [
        "<a href=\"https://colab.research.google.com/github/xmarcosx/edfi-notebook/blob/master/Ed_Fi_142_Notebook.ipynb\" target=\"_parent\"><img src=\"https://colab.research.google.com/assets/colab-badge.svg\" alt=\"Open In Colab\"/></a>"
      ]
    },
    {
      "cell_type": "markdown",
      "source": [
        "![logo](https://storage.googleapis.com/data-studio-codelab/academy_logo.png)\n",
        "\n",
        "Welcome! This notebook is designed to be used with Ed-Fi 142, a course on the Ed-Fi Academy."
      ],
      "metadata": {
        "id": "8LoOePZLK0Ij"
      }
    },
    {
      "cell_type": "code",
      "execution_count": 28,
      "metadata": {
        "colab": {
          "base_uri": "https://localhost:8080/"
        },
        "id": "vYb6S11vKZCa",
        "outputId": "edb08a7c-528f-49aa-8a3e-21e1776edcfb"
      },
      "outputs": [
        {
          "output_type": "stream",
          "name": "stdout",
          "text": [
            "fatal: destination path 'edfi-client-sdks' already exists and is not an empty directory.\n",
            "mv: cannot stat '/content/edfi-client-sdks/v5.3': No such file or directory\n"
          ]
        }
      ],
      "source": [
        "# clone edfi api sdk into environment\n",
        "! git clone https://github.com/K12-Analytics-Engineering/edfi-client-sdks.git;\n",
        "! mv /content/edfi-client-sdks/v5.3 /content/swagger_client;"
      ]
    },
    {
      "cell_type": "markdown",
      "source": [
        "# Imports and API credentials"
      ],
      "metadata": {
        "id": "CFy0PPN_Lg2S"
      }
    },
    {
      "cell_type": "code",
      "source": [
        "import datetime\n",
        "import os\n",
        "import urllib3\n",
        "import requests\n",
        "\n",
        "from getpass import getpass\n",
        "import pandas as pd\n",
        "\n",
        "from google.colab import data_table\n",
        "data_table.enable_dataframe_formatter()\n",
        "\n",
        "import swagger_client"
      ],
      "metadata": {
        "id": "lhqbqGfDLXmF"
      },
      "execution_count": 47,
      "outputs": []
    },
    {
      "cell_type": "code",
      "source": [
        "# set base url, and run cell to store api key and secret\n",
        "EDFI_BASE_URL=\"https://api.ed-fi.org/v5.3/api\"\n",
        "EDFI_API_KEY = input(\"Enter your API key\")\n",
        "EDFI_API_SECRET = getpass(\"Enter your API secret\")"
      ],
      "metadata": {
        "id": "MGzVrF8TsEFC",
        "colab": {
          "base_uri": "https://localhost:8080/"
        },
        "outputId": "86c7cd09-a41b-40ce-f179-6ced96d9035d"
      },
      "execution_count": 30,
      "outputs": [
        {
          "name": "stdout",
          "output_type": "stream",
          "text": [
            "Enter your API keyRvcohKz9zHI4\n",
            "Enter your API secret··········\n"
          ]
        }
      ]
    },
    {
      "cell_type": "markdown",
      "source": [
        "# Retrieving an access token"
      ],
      "metadata": {
        "id": "G9M-gwmkLQ3n"
      }
    },
    {
      "cell_type": "code",
      "source": [
        "# post request to retrieve access token\n",
        "access_response = requests.post(\n",
        "    f\"{EDFI_BASE_URL}/oauth/token\",\n",
        "    headers={ \"Authorization\": urllib3.util.make_headers(basic_auth=f'{EDFI_API_KEY}:{EDFI_API_SECRET}').get(\"authorization\") },\n",
        "    data={ \"grant_type\": \"client_credentials\" }\n",
        ")\n",
        "\n",
        "if access_response.ok:\n",
        "    access_token_json = access_response.json()\n",
        "    print(f\"Token will expire in {access_token_json['expires_in'] / 60} minutes\")\n",
        "    print(f\"Access token: {access_token_json['access_token']}\")\n",
        "else:\n",
        "    print(f\"Failed to retrieve access token with error {access_response.status_code}\")"
      ],
      "metadata": {
        "colab": {
          "base_uri": "https://localhost:8080/"
        },
        "id": "PKcYJE23Kzn_",
        "outputId": "759f9199-ebcf-4eb8-f2b7-545691d4e78d"
      },
      "execution_count": 31,
      "outputs": [
        {
          "output_type": "stream",
          "name": "stdout",
          "text": [
            "Token will expire in 30.0 minutes\n",
            "Access token: c7944c5da2a44b178d4c918a66e47ebc\n"
          ]
        }
      ]
    },
    {
      "cell_type": "code",
      "source": [
        "# initialize edfi client\n",
        "edfi_client = swagger_client.ApiClient()\n",
        "edfi_client.configuration.access_token = access_token_json['access_token']\n",
        "edfi_client.configuration.host = f\"{EDFI_BASE_URL}/data/v3\"\n",
        "edfi_client.configuration.username = EDFI_API_KEY\n",
        "edfi_client.configuration.password = EDFI_API_SECRET"
      ],
      "metadata": {
        "id": "mf742VAyxt08"
      },
      "execution_count": 35,
      "outputs": []
    },
    {
      "cell_type": "markdown",
      "source": [
        "# Schools"
      ],
      "metadata": {
        "id": "2Y7SbmMgxyou"
      }
    },
    {
      "cell_type": "code",
      "source": [
        "schools_api = swagger_client.SchoolsApi(api_client=edfi_client)\n",
        "schools = schools_api.get_schools()\n",
        "\n",
        "f'Retrieved {len(schools)} schools.'"
      ],
      "metadata": {
        "colab": {
          "base_uri": "https://localhost:8080/",
          "height": 35
        },
        "id": "MjOpryWSnTPT",
        "outputId": "3fe81ab3-b8af-4fe2-d520-6a8d4158e3c4"
      },
      "execution_count": 36,
      "outputs": [
        {
          "output_type": "execute_result",
          "data": {
            "text/plain": [
              "'Retrieved 10 schools.'"
            ],
            "application/vnd.google.colaboratory.intrinsic+json": {
              "type": "string"
            }
          },
          "metadata": {},
          "execution_count": 36
        }
      ]
    },
    {
      "cell_type": "code",
      "source": [
        "df = pd.DataFrame.from_dict([school.to_dict() for school in schools])\n",
        "df[['school_id', 'name_of_institution', 'grade_levels']]"
      ],
      "metadata": {
        "id": "rgaXQOB1rJJh",
        "colab": {
          "base_uri": "https://localhost:8080/",
          "height": 520
        },
        "outputId": "4ebb4372-33d6-4b7f-cf9d-a1278d2e85d6"
      },
      "execution_count": 50,
      "outputs": [
        {
          "output_type": "execute_result",
          "data": {
            "text/plain": [
              "   school_id                            name_of_institution  \\\n",
              "0          5        UT Austin College of Education Graduate   \n",
              "1          6  UT Austin College of Education Under Graduate   \n",
              "2          7                      UT Austin Extended Campus   \n",
              "3       7612                      Sanford School Elementary   \n",
              "4      10000                                         string   \n",
              "5     123456    xyz UT Austin College of Education Graduate   \n",
              "6  255901001                         Grand Oaks High School   \n",
              "7  255901044                       Grand Bend Middle School   \n",
              "8  255901107                   Grand Oaks Elementary School   \n",
              "9  255901444                       Grand Oaks Middle School   \n",
              "\n",
              "                                        grade_levels  \n",
              "0  [{'grade_level_descriptor': 'uri://ed-fi.org/G...  \n",
              "1  [{'grade_level_descriptor': 'uri://ed-fi.org/G...  \n",
              "2  [{'grade_level_descriptor': 'uri://ed-fi.org/G...  \n",
              "3  [{'grade_level_descriptor': 'uri://ed-fi.org/G...  \n",
              "4  [{'grade_level_descriptor': 'uri://ed-fi.org/G...  \n",
              "5  [{'grade_level_descriptor': 'uri://ed-fi.org/G...  \n",
              "6  [{'grade_level_descriptor': 'uri://ed-fi.org/G...  \n",
              "7  [{'grade_level_descriptor': 'uri://ed-fi.org/G...  \n",
              "8  [{'grade_level_descriptor': 'uri://ed-fi.org/G...  \n",
              "9  [{'grade_level_descriptor': 'uri://ed-fi.org/G...  "
            ],
            "text/html": [
              "\n",
              "  <div id=\"df-3b2868cc-30aa-45fa-8a49-79d85e28caa7\">\n",
              "    <div class=\"colab-df-container\">\n",
              "      <div>\n",
              "<style scoped>\n",
              "    .dataframe tbody tr th:only-of-type {\n",
              "        vertical-align: middle;\n",
              "    }\n",
              "\n",
              "    .dataframe tbody tr th {\n",
              "        vertical-align: top;\n",
              "    }\n",
              "\n",
              "    .dataframe thead th {\n",
              "        text-align: right;\n",
              "    }\n",
              "</style>\n",
              "<table border=\"1\" class=\"dataframe\">\n",
              "  <thead>\n",
              "    <tr style=\"text-align: right;\">\n",
              "      <th></th>\n",
              "      <th>school_id</th>\n",
              "      <th>name_of_institution</th>\n",
              "      <th>grade_levels</th>\n",
              "    </tr>\n",
              "  </thead>\n",
              "  <tbody>\n",
              "    <tr>\n",
              "      <th>0</th>\n",
              "      <td>5</td>\n",
              "      <td>UT Austin College of Education Graduate</td>\n",
              "      <td>[{'grade_level_descriptor': 'uri://ed-fi.org/G...</td>\n",
              "    </tr>\n",
              "    <tr>\n",
              "      <th>1</th>\n",
              "      <td>6</td>\n",
              "      <td>UT Austin College of Education Under Graduate</td>\n",
              "      <td>[{'grade_level_descriptor': 'uri://ed-fi.org/G...</td>\n",
              "    </tr>\n",
              "    <tr>\n",
              "      <th>2</th>\n",
              "      <td>7</td>\n",
              "      <td>UT Austin Extended Campus</td>\n",
              "      <td>[{'grade_level_descriptor': 'uri://ed-fi.org/G...</td>\n",
              "    </tr>\n",
              "    <tr>\n",
              "      <th>3</th>\n",
              "      <td>7612</td>\n",
              "      <td>Sanford School Elementary</td>\n",
              "      <td>[{'grade_level_descriptor': 'uri://ed-fi.org/G...</td>\n",
              "    </tr>\n",
              "    <tr>\n",
              "      <th>4</th>\n",
              "      <td>10000</td>\n",
              "      <td>string</td>\n",
              "      <td>[{'grade_level_descriptor': 'uri://ed-fi.org/G...</td>\n",
              "    </tr>\n",
              "    <tr>\n",
              "      <th>5</th>\n",
              "      <td>123456</td>\n",
              "      <td>xyz UT Austin College of Education Graduate</td>\n",
              "      <td>[{'grade_level_descriptor': 'uri://ed-fi.org/G...</td>\n",
              "    </tr>\n",
              "    <tr>\n",
              "      <th>6</th>\n",
              "      <td>255901001</td>\n",
              "      <td>Grand Oaks High School</td>\n",
              "      <td>[{'grade_level_descriptor': 'uri://ed-fi.org/G...</td>\n",
              "    </tr>\n",
              "    <tr>\n",
              "      <th>7</th>\n",
              "      <td>255901044</td>\n",
              "      <td>Grand Bend Middle School</td>\n",
              "      <td>[{'grade_level_descriptor': 'uri://ed-fi.org/G...</td>\n",
              "    </tr>\n",
              "    <tr>\n",
              "      <th>8</th>\n",
              "      <td>255901107</td>\n",
              "      <td>Grand Oaks Elementary School</td>\n",
              "      <td>[{'grade_level_descriptor': 'uri://ed-fi.org/G...</td>\n",
              "    </tr>\n",
              "    <tr>\n",
              "      <th>9</th>\n",
              "      <td>255901444</td>\n",
              "      <td>Grand Oaks Middle School</td>\n",
              "      <td>[{'grade_level_descriptor': 'uri://ed-fi.org/G...</td>\n",
              "    </tr>\n",
              "  </tbody>\n",
              "</table>\n",
              "</div>\n",
              "      <button class=\"colab-df-convert\" onclick=\"convertToInteractive('df-3b2868cc-30aa-45fa-8a49-79d85e28caa7')\"\n",
              "              title=\"Convert this dataframe to an interactive table.\"\n",
              "              style=\"display:none;\">\n",
              "        \n",
              "  <svg xmlns=\"http://www.w3.org/2000/svg\" height=\"24px\"viewBox=\"0 0 24 24\"\n",
              "       width=\"24px\">\n",
              "    <path d=\"M0 0h24v24H0V0z\" fill=\"none\"/>\n",
              "    <path d=\"M18.56 5.44l.94 2.06.94-2.06 2.06-.94-2.06-.94-.94-2.06-.94 2.06-2.06.94zm-11 1L8.5 8.5l.94-2.06 2.06-.94-2.06-.94L8.5 2.5l-.94 2.06-2.06.94zm10 10l.94 2.06.94-2.06 2.06-.94-2.06-.94-.94-2.06-.94 2.06-2.06.94z\"/><path d=\"M17.41 7.96l-1.37-1.37c-.4-.4-.92-.59-1.43-.59-.52 0-1.04.2-1.43.59L10.3 9.45l-7.72 7.72c-.78.78-.78 2.05 0 2.83L4 21.41c.39.39.9.59 1.41.59.51 0 1.02-.2 1.41-.59l7.78-7.78 2.81-2.81c.8-.78.8-2.07 0-2.86zM5.41 20L4 18.59l7.72-7.72 1.47 1.35L5.41 20z\"/>\n",
              "  </svg>\n",
              "      </button>\n",
              "      \n",
              "  <style>\n",
              "    .colab-df-container {\n",
              "      display:flex;\n",
              "      flex-wrap:wrap;\n",
              "      gap: 12px;\n",
              "    }\n",
              "\n",
              "    .colab-df-convert {\n",
              "      background-color: #E8F0FE;\n",
              "      border: none;\n",
              "      border-radius: 50%;\n",
              "      cursor: pointer;\n",
              "      display: none;\n",
              "      fill: #1967D2;\n",
              "      height: 32px;\n",
              "      padding: 0 0 0 0;\n",
              "      width: 32px;\n",
              "    }\n",
              "\n",
              "    .colab-df-convert:hover {\n",
              "      background-color: #E2EBFA;\n",
              "      box-shadow: 0px 1px 2px rgba(60, 64, 67, 0.3), 0px 1px 3px 1px rgba(60, 64, 67, 0.15);\n",
              "      fill: #174EA6;\n",
              "    }\n",
              "\n",
              "    [theme=dark] .colab-df-convert {\n",
              "      background-color: #3B4455;\n",
              "      fill: #D2E3FC;\n",
              "    }\n",
              "\n",
              "    [theme=dark] .colab-df-convert:hover {\n",
              "      background-color: #434B5C;\n",
              "      box-shadow: 0px 1px 3px 1px rgba(0, 0, 0, 0.15);\n",
              "      filter: drop-shadow(0px 1px 2px rgba(0, 0, 0, 0.3));\n",
              "      fill: #FFFFFF;\n",
              "    }\n",
              "  </style>\n",
              "\n",
              "      <script>\n",
              "        const buttonEl =\n",
              "          document.querySelector('#df-3b2868cc-30aa-45fa-8a49-79d85e28caa7 button.colab-df-convert');\n",
              "        buttonEl.style.display =\n",
              "          google.colab.kernel.accessAllowed ? 'block' : 'none';\n",
              "\n",
              "        async function convertToInteractive(key) {\n",
              "          const element = document.querySelector('#df-3b2868cc-30aa-45fa-8a49-79d85e28caa7');\n",
              "          const dataTable =\n",
              "            await google.colab.kernel.invokeFunction('convertToInteractive',\n",
              "                                                     [key], {});\n",
              "          if (!dataTable) return;\n",
              "\n",
              "          const docLinkHtml = 'Like what you see? Visit the ' +\n",
              "            '<a target=\"_blank\" href=https://colab.research.google.com/notebooks/data_table.ipynb>data table notebook</a>'\n",
              "            + ' to learn more about interactive tables.';\n",
              "          element.innerHTML = '';\n",
              "          dataTable['output_type'] = 'display_data';\n",
              "          await google.colab.output.renderOutput(dataTable, element);\n",
              "          const docLink = document.createElement('div');\n",
              "          docLink.innerHTML = docLinkHtml;\n",
              "          element.appendChild(docLink);\n",
              "        }\n",
              "      </script>\n",
              "    </div>\n",
              "  </div>\n",
              "  "
            ],
            "application/vnd.google.colaboratory.module+javascript": "\n      import \"https://ssl.gstatic.com/colaboratory/data_table/a8bd4d5e58f96183/data_table.js\";\n\n      window.createDataTable({\n        data: [[{\n            'v': 0,\n            'f': \"0\",\n        },\n{\n            'v': 5,\n            'f': \"5\",\n        },\n\"UT Austin College of Education Graduate\",\n[\"{'grade_level_descriptor': 'uri://ed-fi.org/GradeLevelDescriptor#Other'}\"]],\n [{\n            'v': 1,\n            'f': \"1\",\n        },\n{\n            'v': 6,\n            'f': \"6\",\n        },\n\"UT Austin College of Education Under Graduate\",\n[\"{'grade_level_descriptor': 'uri://ed-fi.org/GradeLevelDescriptor#Postsecondary'}\"]],\n [{\n            'v': 2,\n            'f': \"2\",\n        },\n{\n            'v': 7,\n            'f': \"7\",\n        },\n\"UT Austin Extended Campus\",\n[\"{'grade_level_descriptor': 'uri://ed-fi.org/GradeLevelDescriptor#Postsecondary'}\"]],\n [{\n            'v': 3,\n            'f': \"3\",\n        },\n{\n            'v': 7612,\n            'f': \"7612\",\n        },\n\"Sanford School Elementary\",\n[\"{'grade_level_descriptor': 'uri://ed-fi.org/GradeLevelDescriptor#Kindergarten'}\", \"{'grade_level_descriptor': 'uri://ed-fi.org/GradeLevelDescriptor#Preschool/Prekindergarten'}\", \"{'grade_level_descriptor': 'uri://ed-fi.org/GradeLevelDescriptor#Second grade'}\", \"{'grade_level_descriptor': 'uri://ed-fi.org/GradeLevelDescriptor#First grade'}\", \"{'grade_level_descriptor': 'uri://ed-fi.org/GradeLevelDescriptor#Third grade'}\", \"{'grade_level_descriptor': 'uri://ed-fi.org/GradeLevelDescriptor#Fourth grade'}\", \"{'grade_level_descriptor': 'uri://ed-fi.org/GradeLevelDescriptor#Sixth grade'}\", \"{'grade_level_descriptor': 'uri://ed-fi.org/GradeLevelDescriptor#Fifth grade'}\"]],\n [{\n            'v': 4,\n            'f': \"4\",\n        },\n{\n            'v': 10000,\n            'f': \"10000\",\n        },\n\"string\",\n[\"{'grade_level_descriptor': 'uri://ed-fi.org/GradeLevelDescriptor#First grade'}\"]],\n [{\n            'v': 5,\n            'f': \"5\",\n        },\n{\n            'v': 123456,\n            'f': \"123456\",\n        },\n\"xyz UT Austin College of Education Graduate\",\n[\"{'grade_level_descriptor': 'uri://ed-fi.org/GradeLevelDescriptor#Other'}\"]],\n [{\n            'v': 6,\n            'f': \"6\",\n        },\n{\n            'v': 255901001,\n            'f': \"255901001\",\n        },\n\"Grand Oaks High School\",\n[\"{'grade_level_descriptor': 'uri://ed-fi.org/GradeLevelDescriptor#Ninth grade'}\", \"{'grade_level_descriptor': 'uri://ed-fi.org/GradeLevelDescriptor#Eleventh grade'}\", \"{'grade_level_descriptor': 'uri://ed-fi.org/GradeLevelDescriptor#Tenth grade'}\", \"{'grade_level_descriptor': 'uri://ed-fi.org/GradeLevelDescriptor#Twelfth grade'}\"]],\n [{\n            'v': 7,\n            'f': \"7\",\n        },\n{\n            'v': 255901044,\n            'f': \"255901044\",\n        },\n\"Grand Bend Middle School\",\n[\"{'grade_level_descriptor': 'uri://ed-fi.org/GradeLevelDescriptor#Sixth grade'}\", \"{'grade_level_descriptor': 'uri://ed-fi.org/GradeLevelDescriptor#Seventh grade'}\", \"{'grade_level_descriptor': 'uri://ed-fi.org/GradeLevelDescriptor#Eighth grade'}\"]],\n [{\n            'v': 8,\n            'f': \"8\",\n        },\n{\n            'v': 255901107,\n            'f': \"255901107\",\n        },\n\"Grand Oaks Elementary School\",\n[\"{'grade_level_descriptor': 'uri://ed-fi.org/GradeLevelDescriptor#First grade'}\"]],\n [{\n            'v': 9,\n            'f': \"9\",\n        },\n{\n            'v': 255901444,\n            'f': \"255901444\",\n        },\n\"Grand Oaks Middle School\",\n[\"{'grade_level_descriptor': 'uri://ed-fi.org/GradeLevelDescriptor#Sixth grade'}\", \"{'grade_level_descriptor': 'uri://ed-fi.org/GradeLevelDescriptor#Seventh grade'}\", \"{'grade_level_descriptor': 'uri://ed-fi.org/GradeLevelDescriptor#Eighth grade'}\"]]],\n        columns: [[\"number\", \"index\"], [\"number\", \"school_id\"], [\"string\", \"name_of_institution\"], [\"string\", \"grade_levels\"]],\n        columnOptions: [{\"width\": \"1px\", \"className\": \"index_column\"}],\n        rowsPerPage: 25,\n        helpUrl: \"https://colab.research.google.com/notebooks/data_table.ipynb\",\n        suppressOutputScrolling: true,\n        minimumWidth: undefined,\n      });\n    "
          },
          "metadata": {},
          "execution_count": 50
        }
      ]
    },
    {
      "cell_type": "code",
      "source": [],
      "metadata": {
        "id": "kOsaRWy74Kxa"
      },
      "execution_count": null,
      "outputs": []
    }
  ]
}